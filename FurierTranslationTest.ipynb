{
 "cells": [
  {
   "cell_type": "code",
   "execution_count": 102,
   "metadata": {},
   "outputs": [],
   "source": [
    "from astropy.io import fits\n",
    "from astropy.wcs import wcs\n",
    "import numpy as np"
   ]
  },
  {
   "cell_type": "code",
   "execution_count": 103,
   "metadata": {},
   "outputs": [],
   "source": [
    "myfile=fits.open(\"id11_Coma_mapdld_copy.fits\",mode=\"update\")\n",
    "w=wcs.WCS(myfile[0].header)"
   ]
  },
  {
   "cell_type": "code",
   "execution_count": 104,
   "metadata": {},
   "outputs": [
    {
     "name": "stdout",
     "output_type": "stream",
     "text": [
      "Filename: id11_Coma_mapdld_copy.fits\n",
      "No.    Name      Ver    Type      Cards   Dimensions   Format\n",
      "  0  skydld        1 PrimaryHDU      31   (524, 524)   float32   \n",
      "  1  skyerr        1 ImageHDU         8   (524, 524)   float32   \n",
      "  2  skyexp        1 ImageHDU         8   (524, 524)   float32   \n"
     ]
    }
   ],
   "source": [
    "myfile.info()"
   ]
  },
  {
   "cell_type": "code",
   "execution_count": 105,
   "metadata": {},
   "outputs": [],
   "source": [
    "for i in range(0,524):\n",
    "    for j in range(0,524):\n",
    "        myfile[0].data[i][j]=1\n",
    "c1=194.88\n",
    "c2=27.951\n",
    "r=0.2"
   ]
  },
  {
   "cell_type": "code",
   "execution_count": 106,
   "metadata": {},
   "outputs": [],
   "source": [
    "sigma=5/60\n",
    "pi=3.14159265359\n",
    "def gaussian(x,y):\n",
    "    return np.exp(-(x**2/(2*sigma**2)+y**2/(2*sigma**2)))/(2*pi*sigma**2)"
   ]
  },
  {
   "cell_type": "code",
   "execution_count": null,
   "metadata": {},
   "outputs": [],
   "source": []
  },
  {
   "cell_type": "code",
   "execution_count": 107,
   "metadata": {},
   "outputs": [
    {
     "name": "stdout",
     "output_type": "stream",
     "text": [
      "[[264.61874793 257.5643812 ]\n",
      " [259.32385602 263.55115731]]\n"
     ]
    }
   ],
   "source": [
    "pixcrd=np.array([[center1-radius,center2-radius],[center1+radius,center2+radius]],dtype=np.float32)\n",
    "pix=w.wcs_world2pix(pixcrd,0)\n",
    "print(pix)"
   ]
  },
  {
   "cell_type": "code",
   "execution_count": 108,
   "metadata": {},
   "outputs": [],
   "source": [
    "def translation(center1,center2,radius):\n",
    "    pix_range=np.array([[center1-radius,center2-radius],[center1+radius,center2+radius]],dtype=np.float32)\n",
    "    border_pix=w.wcs_world2pix(pix_range,0)\n",
    "    for i in range(int(border_pix[1][0]),int(border_pix[0][0])+1):\n",
    "        for j in range(int(border_pix[0][1]),int(border_pix[1][1])+1):\n",
    "            pixcrd=np.array([[i,j]],dtype=np.float32)\n",
    "            world=w.wcs_pix2world(pixcrd,0)\n",
    "            myfile[0].data[i][j]*=gaussian(world[0][0]-center1,world[0][1]-center2)"
   ]
  },
  {
   "cell_type": "code",
   "execution_count": 109,
   "metadata": {},
   "outputs": [],
   "source": [
    "translation(c1,c2,r)"
   ]
  },
  {
   "cell_type": "code",
   "execution_count": 110,
   "metadata": {},
   "outputs": [
    {
     "data": {
      "text/plain": [
       "7.552072"
      ]
     },
     "execution_count": 110,
     "metadata": {},
     "output_type": "execute_result"
    }
   ],
   "source": [
    "myfile[0].data[263][262]"
   ]
  },
  {
   "cell_type": "code",
   "execution_count": null,
   "metadata": {},
   "outputs": [],
   "source": []
  },
  {
   "cell_type": "code",
   "execution_count": null,
   "metadata": {},
   "outputs": [],
   "source": []
  },
  {
   "cell_type": "code",
   "execution_count": null,
   "metadata": {},
   "outputs": [],
   "source": []
  },
  {
   "cell_type": "code",
   "execution_count": null,
   "metadata": {},
   "outputs": [],
   "source": []
  },
  {
   "cell_type": "code",
   "execution_count": 97,
   "metadata": {},
   "outputs": [],
   "source": [
    "myfile.flush()\n",
    "myfile.close()"
   ]
  },
  {
   "cell_type": "code",
   "execution_count": null,
   "metadata": {},
   "outputs": [],
   "source": []
  }
 ],
 "metadata": {
  "kernelspec": {
   "display_name": "Python 3",
   "language": "python",
   "name": "python3"
  },
  "language_info": {
   "codemirror_mode": {
    "name": "ipython",
    "version": 3
   },
   "file_extension": ".py",
   "mimetype": "text/x-python",
   "name": "python",
   "nbconvert_exporter": "python",
   "pygments_lexer": "ipython3",
   "version": "3.7.3"
  }
 },
 "nbformat": 4,
 "nbformat_minor": 2
}
